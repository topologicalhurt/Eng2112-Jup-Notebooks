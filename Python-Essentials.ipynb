{
 "cells": [
  {
   "cell_type": "markdown",
   "id": "a1c2233d",
   "metadata": {},
   "source": [
    "# Python Essentials for ENGG2112"
   ]
  },
  {
   "cell_type": "markdown",
   "id": "838065dc",
   "metadata": {},
   "source": [
    "## Important Modules\n",
    "The following modules will be required in this unit of study:\n",
    "* numpy (to handle numerical data)\n",
    "* matplotlib (to plot graphs and charts for visualisation)\n",
    "* pandas (to handle large data files)\n",
    "* sklearn (to call a wide range of machine learning functions)\n"
   ]
  },
  {
   "cell_type": "code",
   "execution_count": 112,
   "id": "3bf283d1",
   "metadata": {},
   "outputs": [
    {
     "name": "stdout",
     "output_type": "stream",
     "text": [
      "List of 10 random numbers: [[9 4 6 4 7 3 0 0 3 5]]\n"
     ]
    }
   ],
   "source": [
    "# To import these modules using their usual aliases:\n",
    "import numpy as np\n",
    "import matplotlib as mpl\n",
    "import pandas as pd\n",
    "\n",
    "# Or import a function within a module:\n",
    "from sklearn.datasets import load_iris\n",
    "from numpy.random import default_rng\n",
    "\n",
    "# Now we can call default_rng without having to type numpy.random.default_rng.\n",
    "# Here we generate 10 random numbers uniformly distributed in 0 through 9 using\n",
    "# the integers method within the default_rng object.\n",
    "rng = default_rng()\n",
    "x = rng.integers(10,size=(1,10))\n",
    "print(\"List of 10 random numbers:\", x)"
   ]
  },
  {
   "cell_type": "markdown",
   "id": "60316e6f",
   "metadata": {},
   "source": [
    "## Data Types\n",
    "Python has several data types (int, float, str, etc.) and because we will be dealing with columns and rows of data, we need to understand how these collections are represented. Collections of data of any sort are held in Python using:\n",
    "* Lists\n",
    "* Tuples\n",
    "* Sets\n",
    "* Dictionaries"
   ]
  },
  {
   "cell_type": "code",
   "execution_count": 143,
   "id": "137089d0",
   "metadata": {},
   "outputs": [
    {
     "name": "stdout",
     "output_type": "stream",
     "text": [
      "My favourite color is Blue\n",
      "The first element of z is a whole sequence of numbers:  [1, 2, 3]\n",
      "This is a confused list:  ['Red', 'Blue', 'Green', 3]\n"
     ]
    }
   ],
   "source": [
    "# A list is an array of objects contained within square brackets...\n",
    "mylist = [\"Red\",\"Blue\",\"Green\"]\n",
    "\n",
    "# It is an ordered list and each element can be accessed through indexing (starting from 0)\n",
    "x = rng.integers(low=0,high=3) # Random integer in {0,1,2,3}\n",
    "print(\"My favourite color is\", mylist[x])\n",
    "\n",
    "# A list can contain anything, not just strings. Float, int, complex, etc., even a list of lists!\n",
    "# The numpy array is a special example of a list of lists. More later.\n",
    "z = [[1,2,3],[4,5,6],[7,8,9]]\n",
    "print(\"The first element of z is a whole sequence of numbers: \", z[0])\n",
    "\n",
    "# A list can also contain a mixture of different data types, e.g.\n",
    "mylist.append(3)\n",
    "print(\"This is a confused list: \", mylist)"
   ]
  },
  {
   "cell_type": "code",
   "execution_count": 113,
   "id": "9d048125",
   "metadata": {},
   "outputs": [
    {
     "name": "stdout",
     "output_type": "stream",
     "text": [
      "The first colour now isn't really a colour:  Black\n",
      "The 2nd element is:  2\n",
      "In loop 1 !\n",
      "In loop 2 !\n",
      "In loop 3 !\n",
      "In loop 4 !\n"
     ]
    }
   ],
   "source": [
    "# A tuple is an array of objects that cannot be changed, unlike those in a list.\n",
    "mylist[0] = \"Black\"\n",
    "print(\"The first colour now isn't really a colour: \", mylist[0])\n",
    "\n",
    "mytuple = (1,2,3,4) # Now create a tuple\n",
    "# mytuple[1] = 5 # And try to change its 2nd value... Syntax error!\n",
    "\n",
    "# We can access the elements of the tuple as we would a list element.\n",
    "print(\"The 2nd element is: \", mytuple[1])\n",
    "\n",
    "# Tuples can be used as an iterable in a for loop.\n",
    "for k in mytuple:\n",
    "    print(\"In loop\", k, \"!\")"
   ]
  },
  {
   "cell_type": "code",
   "execution_count": 54,
   "id": "be41c0e3",
   "metadata": {},
   "outputs": [
    {
     "name": "stdout",
     "output_type": "stream",
     "text": [
      "This student isn't new!\n",
      "This is the set now: {'Peter', 'Max', 'Jane', 'John'}\n"
     ]
    }
   ],
   "source": [
    "# A set is an unordered collection of objects which cannot contain duplicates.\n",
    "A = {\"Peter\", \"John\", \"Max\"}\n",
    "New_student = \"John\"\n",
    "\n",
    "# We can check whether an element is in a set.\n",
    "if New_student in A:\n",
    "    print(\"This student isn't new!\")\n",
    "else:\n",
    "    print(\"Say welcome to\", New_student)\n",
    "    \n",
    "# We can add an element to a set but cannot change the value of an element.\n",
    "A.add(\"Jane\")\n",
    "print(\"This is the set now:\", A)"
   ]
  },
  {
   "cell_type": "code",
   "execution_count": 66,
   "id": "26e1fc2b",
   "metadata": {},
   "outputs": [
    {
     "name": "stdout",
     "output_type": "stream",
     "text": [
      "The Toyota Corolla is one of the oldest car models in the world.\n",
      "The age of John is 23\n",
      "The age of James is 35\n",
      "The age of Kelly is 24\n"
     ]
    }
   ],
   "source": [
    "# A dictionary contains (label,value) pairs. For instance,\n",
    "B = {\n",
    "    \"brand\": \"Toyota\",\n",
    "    \"model\": \"Corolla\",\n",
    "    \"year\": 2022\n",
    "}\n",
    "# We access values in the dictionary through its labels.\n",
    "print(\"The\", B[\"brand\"], B[\"model\"], \"is one of the oldest car models in the world.\")\n",
    "\n",
    "# We can store rows of data in a dictionary with labels representing column headers. This is exactly\n",
    "# what the pandas module's dataframe does. We'll see more of it later.\n",
    "C = {\n",
    "    \"Name\": [\"John\", \"James\", \"Kelly\"],\n",
    "    \"Gender\": [\"Male\", \"Male\", \"Female\"],\n",
    "    \"Age\": [23, 35, 24]\n",
    "}\n",
    "\n",
    "for i in enumerate(C[\"Name\"]):\n",
    "    print(\"The age of\", C[\"Name\"][i[0]],\"is\", C[\"Age\"][i[0]])"
   ]
  },
  {
   "cell_type": "markdown",
   "id": "9ce68992",
   "metadata": {},
   "source": [
    "## Functions and Classes\n",
    "In any programming language, functions or sub-routines are key tools that we employ to compartmentalize our code and make the whole coding project manageable. In object-oriented languages like Python, we can also define classes that themselves have functions associated with them."
   ]
  },
  {
   "cell_type": "code",
   "execution_count": 144,
   "id": "5b28c2e5",
   "metadata": {},
   "outputs": [
    {
     "name": "stdout",
     "output_type": "stream",
     "text": [
      "Ratio of the two values = 0.6\n",
      "0.6\n",
      "1.2\n",
      "3.4\n",
      "a\n",
      "b\n"
     ]
    }
   ],
   "source": [
    "# We define a function using the keyword \"def\". Any number of inputs can be defined (including none),\n",
    "# and the function returns one or more values using the \"return\" command.\n",
    "def func1(x1,x2):\n",
    "    if type(x1) != float or type(x2) != float:\n",
    "        return \"Error: Inputs must be floating point values\"\n",
    "    else:\n",
    "        y = x1/x2\n",
    "        return y\n",
    "\n",
    "# We call the function like this, and the returned value goes into X. The first input argument is treated as x1,\n",
    "# the second as x2. These are known as positional arguments.\n",
    "X = func1(3.,5.)\n",
    "print(\"Ratio of the two values =\",X)\n",
    "\n",
    "# We can also explicitly state the argument name when calling a function, in which case the positions no longer\n",
    "# matter, like so:\n",
    "Y = func1(x2=5., x1=3.)\n",
    "print(Y)\n",
    "\n",
    "# We can allow a tuple of values as an argument, in case we don't know how many arguments we want to pass into a\n",
    "# function...\n",
    "def func2(*x):\n",
    "    N = len(x)\n",
    "    for k in range(N):\n",
    "        print(x[k])\n",
    "        \n",
    "func2(1.2,3.4,\"a\",\"b\") # This function returns no output, which is allowable."
   ]
  },
  {
   "cell_type": "code",
   "execution_count": 145,
   "id": "8e625438",
   "metadata": {},
   "outputs": [
    {
     "name": "stdout",
     "output_type": "stream",
     "text": [
      "1\n",
      "9.0\n"
     ]
    }
   ],
   "source": [
    "# A Python class is an object that can be very flexibly designed, and most of the useful Python features are\n",
    "# instances of classes as we will soon see.\n",
    "\n",
    "class MyClass:\n",
    "    def __init__(self,a,b,c): # Assign attributes a, b and c to the object.\n",
    "        self.a = a\n",
    "        self.b = b\n",
    "        self.c = c\n",
    "    \n",
    "    def f1(self,d,e): # Define a function f1 (with two inputs) within the class.\n",
    "        return d*e*self.b\n",
    "    \n",
    "p1 = MyClass(1,2,3) # Create an object p1 that belongs in MyClass\n",
    "print(p1.a) # Print attribute a of p1\n",
    "out = p1.f1(1.5,3)\n",
    "print(out) # Print the output of the f1 method in the p1 object with inputs 1.5 and 3."
   ]
  }
 ],
 "metadata": {
  "kernelspec": {
   "display_name": "Python 3",
   "language": "python",
   "name": "python3"
  },
  "language_info": {
   "codemirror_mode": {
    "name": "ipython",
    "version": 3
   },
   "file_extension": ".py",
   "mimetype": "text/x-python",
   "name": "python",
   "nbconvert_exporter": "python",
   "pygments_lexer": "ipython3",
   "version": "3.8.8"
  },
  "latex_envs": {
   "LaTeX_envs_menu_present": true,
   "autoclose": true,
   "autocomplete": true,
   "bibliofile": "biblio.bib",
   "cite_by": "apalike",
   "current_citInitial": 1,
   "eqLabelWithNumbers": true,
   "eqNumInitial": 1,
   "hotkeys": {
    "equation": "Ctrl-E",
    "itemize": "Ctrl-I"
   },
   "labels_anchors": false,
   "latex_user_defs": false,
   "report_style_numbering": false,
   "user_envs_cfg": false
  }
 },
 "nbformat": 4,
 "nbformat_minor": 5
}
